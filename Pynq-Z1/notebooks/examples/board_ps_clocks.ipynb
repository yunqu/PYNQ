{
 "cells": [
  {
   "cell_type": "markdown",
   "metadata": {
    "deletable": true,
    "editable": true
   },
   "source": [
    "# PS Clock Control\n",
    "This notebook demonstrates how to use `CLK` class to control the PL clocks.\n",
    "\n",
    "By default, there are 4 PL clocks in the system. They all can be reprogrammed to valid clock rates.\n",
    "\n",
    "For the base overlay, for example, the 4 clocks required are: 100MHz, 142MHz, 200MHz, and 167MHz, respectively.\n",
    "\n",
    "References:\n",
    "\n",
    "https://www.xilinx.com/support/documentation/user_guides/ug585-Zynq-7000-TRM.pdf\n",
    "\n",
    "### Show All Clocks\n",
    "\n",
    "To show all the clock rates, use the attribute `clk_dict`. This dictionary stores the clock names as well as their rates in Hz."
   ]
  },
  {
   "cell_type": "code",
   "execution_count": 1,
   "metadata": {
    "collapsed": false,
    "deletable": true,
    "editable": true,
    "scrolled": true
   },
   "outputs": [
    {
     "name": "stdout",
     "output_type": "stream",
     "text": [
      "{'cpu': 650000000,\n",
      " 'fclk0': 100000000,\n",
      " 'fclk1': 142857143,\n",
      " 'fclk2': 200000000,\n",
      " 'fclk3': 166666667}\n"
     ]
    }
   ],
   "source": [
    "from pprint import pprint\n",
    "from copy import deepcopy\n",
    "from pynq import CLK\n",
    "from pynq import Overlay\n",
    "\n",
    "ol = Overlay(\"base.bit\")\n",
    "ol.download()\n",
    "\n",
    "clk_manager = CLK()\n",
    "pprint(clk_manager.clks)"
   ]
  },
  {
   "cell_type": "markdown",
   "metadata": {
    "deletable": true,
    "editable": true
   },
   "source": [
    "### Set Clock Rates\n",
    "To set clock rates, use method `set_clk()`. Users have the following options:\n",
    "\n",
    "1. Users can specify the 2 divisor values directly, which will divide a 1000MHz (on PYNQ-Z1) clock.\n",
    "2. Users can specify the clock rate, where the 2 divisor values will be calculated internally."
   ]
  },
  {
   "cell_type": "code",
   "execution_count": 2,
   "metadata": {
    "collapsed": false,
    "deletable": true,
    "editable": true
   },
   "outputs": [],
   "source": [
    "# Set fclk0 to 10MHz\n",
    "clk_manager.set_clk('fclk0', div0=10, div1=10)\n",
    "# Set fclk1 to 12.5MHz\n",
    "clk_manager.set_clk('fclk1', clk_rate = 12500000)\n",
    "# Set fclk2 to 20MHz\n",
    "clk_manager.set_clk('fclk2',div0=5,clk_rate = 20000000)\n",
    "# Set fclk3 to 50MHz\n",
    "clk_manager.set_clk('fclk3',div1=2,clk_rate = 50000000)"
   ]
  },
  {
   "cell_type": "markdown",
   "metadata": {
    "deletable": true,
    "editable": true
   },
   "source": [
    "The following cell shows how to get the clock rate of a specific clock. "
   ]
  },
  {
   "cell_type": "code",
   "execution_count": 3,
   "metadata": {
    "collapsed": false,
    "deletable": true,
    "editable": true
   },
   "outputs": [
    {
     "name": "stdout",
     "output_type": "stream",
     "text": [
      "fclk0 frequency: 10.0MHz\n"
     ]
    }
   ],
   "source": [
    "print(\"fclk0 frequency: {}MHz\".format(clk_manager.clks['fclk0']/1e6))"
   ]
  },
  {
   "cell_type": "markdown",
   "metadata": {
    "deletable": true,
    "editable": true
   },
   "source": [
    "Print out all the clock rates."
   ]
  },
  {
   "cell_type": "code",
   "execution_count": 4,
   "metadata": {
    "collapsed": false,
    "deletable": true,
    "editable": true
   },
   "outputs": [
    {
     "name": "stdout",
     "output_type": "stream",
     "text": [
      "{'cpu': 650000000,\n",
      " 'fclk0': 10000000,\n",
      " 'fclk1': 12500000,\n",
      " 'fclk2': 20000000,\n",
      " 'fclk3': 50000000}\n"
     ]
    }
   ],
   "source": [
    "pprint(clk_manager.clks)"
   ]
  },
  {
   "cell_type": "markdown",
   "metadata": {
    "deletable": true,
    "editable": true
   },
   "source": [
    "### Reset Clock Rates\n",
    "Recover the original clock rates. This can be done by simply reloading the overlay."
   ]
  },
  {
   "cell_type": "code",
   "execution_count": 5,
   "metadata": {
    "collapsed": false,
    "deletable": true,
    "editable": true,
    "scrolled": true
   },
   "outputs": [
    {
     "name": "stdout",
     "output_type": "stream",
     "text": [
      "{'cpu': 650000000,\n",
      " 'fclk0': 100000000,\n",
      " 'fclk1': 142857143,\n",
      " 'fclk2': 200000000,\n",
      " 'fclk3': 166666667}\n"
     ]
    }
   ],
   "source": [
    "ol.download()\n",
    "pprint(clk_manager.clks)"
   ]
  },
  {
   "cell_type": "code",
   "execution_count": null,
   "metadata": {
    "collapsed": true,
    "deletable": true,
    "editable": true
   },
   "outputs": [],
   "source": []
  }
 ],
 "metadata": {
  "kernelspec": {
   "display_name": "Python 3",
   "language": "python",
   "name": "python3"
  },
  "language_info": {
   "codemirror_mode": {
    "name": "ipython",
    "version": 3
   },
   "file_extension": ".py",
   "mimetype": "text/x-python",
   "name": "python",
   "nbconvert_exporter": "python",
   "pygments_lexer": "ipython3",
   "version": "3.6.0"
  }
 },
 "nbformat": 4,
 "nbformat_minor": 1
}
